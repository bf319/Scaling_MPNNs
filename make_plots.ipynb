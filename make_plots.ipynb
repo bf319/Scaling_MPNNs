{
  "nbformat": 4,
  "nbformat_minor": 0,
  "metadata": {
    "colab": {
      "name": "make-plots.ipynb",
      "provenance": [],
      "include_colab_link": true
    },
    "kernelspec": {
      "name": "python3",
      "display_name": "Python 3"
    },
    "language_info": {
      "name": "python"
    }
  },
  "cells": [
    {
      "cell_type": "markdown",
      "metadata": {
        "id": "view-in-github",
        "colab_type": "text"
      },
      "source": [
        "<a href=\"https://colab.research.google.com/github/bf319/Scaling_MPNNs/blob/main/make_plots.ipynb\" target=\"_parent\"><img src=\"https://colab.research.google.com/assets/colab-badge.svg\" alt=\"Open In Colab\"/></a>"
      ]
    },
    {
      "cell_type": "code",
      "execution_count": 1,
      "metadata": {
        "id": "tj-JgsYk-s4_"
      },
      "outputs": [],
      "source": [
        "import pandas as pd\n",
        "\n",
        "roc_vs_number_of_params_url = \"https://docs.google.com/spreadsheets/d/1vbInj1sfZU5Cgl5E12x3QX1th0JAajpUTFrVRAGNsa8/gviz/tq?tqx=out:csv&sheet=Sheet1\"\n",
        "roc_vs_batch_size = \"https://docs.google.com/spreadsheets/d/18dA_TvqA-CcARlBACaRCcfKoZZCQr4j71DXiznzml9k/gviz/tq?tqx=out:csv&sheet=Sheet1\"\n",
        "\n",
        "df_number_of_params = pd.read_csv(roc_vs_number_of_params_url)\n",
        "df_batch_size = pd.read_csv(roc_vs_batch_size)"
      ]
    },
    {
      "cell_type": "code",
      "source": [
        "import matplotlib.pyplot as plt\n",
        "\n",
        "def plot_number_of_params_vs_roc():\n",
        "  data_to_plot = {}\n",
        "\n",
        "  message_passing_steps_evaluated = [5, 10, 13, 14, 15, 16, 17, 18]\n",
        "\n",
        "  for num_message_passing_steps in message_passing_steps_evaluated:\n",
        "    epochs = []\n",
        "    roc_train = []\n",
        "    roc_valid = []\n",
        "    roc_test = []\n",
        "    \n",
        "    for index, row in df_batch_size.iterrows():\n",
        "      if row['Message passing steps'] == num_message_passing_steps:\n",
        "        epochs.append(row['Epoch'])\n",
        "        roc_train.append(row['ROC train'])\n",
        "        roc_valid.append(row['ROC eval'])\n",
        "        roc_test.append(row['ROC test'])\n",
        "\n",
        "    data_to_plot[num_message_passing_steps] = {\n",
        "        'epochs': epochs,\n",
        "        'roc_train': roc_train,\n",
        "        'roc_valid': roc_valid,\n",
        "        'roc_test': roc_test\n",
        "    }\n",
        "\n",
        "  for num_message_passing_steps in message_passing_steps_evaluated:\n",
        "    plt.plot(data_to_plot[num_message_passing_steps]['epochs'], data_to_plot[num_message_passing_steps]['roc_test'], label = f'ROC test {num_message_passing_steps} layers')\n",
        "\n",
        "  plt.xlabel('Number of epochs')\n",
        "  plt.ylabel('ROC')\n",
        "\n",
        "  plt.legend()\n",
        "  plt.show()\n",
        "\n",
        "plot_number_of_params_vs_roc()"
      ],
      "metadata": {
        "colab": {
          "base_uri": "https://localhost:8080/",
          "height": 279
        },
        "id": "_y284DPS_z_Z",
        "outputId": "1eca73b2-fe2c-41a2-c7e0-100a395d934b"
      },
      "execution_count": 4,
      "outputs": [
        {
          "output_type": "display_data",
          "data": {
            "text/plain": [
              "<Figure size 432x288 with 1 Axes>"
            ],
            "image/png": "[encoded data removed]"
          },
          "metadata": {
            "needs_background": "light"
          }
        }
      ]
    }
  ]
}