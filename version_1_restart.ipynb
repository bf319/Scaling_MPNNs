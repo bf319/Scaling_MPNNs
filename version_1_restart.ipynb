{
  "nbformat": 4,
  "nbformat_minor": 0,
  "metadata": {
    "colab": {
      "name": "version-1-restart.ipynb",
      "provenance": [],
      "authorship_tag": "ABX9TyObh0EWxyZl0j8RluiusWMD",
      "include_colab_link": true
    },
    "kernelspec": {
      "name": "python3",
      "display_name": "Python 3"
    },
    "language_info": {
      "name": "python"
    },
    "accelerator": "TPU"
  },
  "cells": [
    {
      "cell_type": "markdown",
      "metadata": {
        "id": "view-in-github",
        "colab_type": "text"
      },
      "source": [
        "<a href=\"https://colab.research.google.com/github/bf319/Scaling_MPNNs/blob/main/version_1_restart.ipynb\" target=\"_parent\"><img src=\"https://colab.research.google.com/assets/colab-badge.svg\" alt=\"Open In Colab\"/></a>"
      ]
    },
    {
      "cell_type": "code",
      "execution_count": 1,
      "metadata": {
        "id": "S0Uuxp631d21"
      },
      "outputs": [],
      "source": [
        "%pip install -q git+https://github.com/deepmind/dm-haiku\n",
        "%pip install -q jraph\n",
        "%pip install -q git+https://github.com/deepmind/jaxline\n",
        "%pip install -q ogb\n",
        "%pip install -q dgl\n",
        "%pip install -q optax\n",
        "%pip install -q metis"
      ]
    },
    {
      "cell_type": "code",
      "source": [
        "# Initialize the TPU\n",
        "import jax.tools.colab_tpu\n",
        "jax.tools.colab_tpu.setup_tpu()"
      ],
      "metadata": {
        "id": "LKDGqcZC1xKh"
      },
      "execution_count": 2,
      "outputs": []
    },
    {
      "cell_type": "code",
      "source": [
        "from ogb.nodeproppred import Evaluator\n",
        "from ogb.nodeproppred import DglNodePropPredDataset\n",
        "\n",
        "dataset = DglNodePropPredDataset(name = \"ogbn-proteins\")\n",
        "split_idx = dataset.get_idx_split()"
      ],
      "metadata": {
        "colab": {
          "base_uri": "https://localhost:8080/"
        },
        "id": "ZYocthafCOE7",
        "outputId": "e1356b31-0352-4a7a-ed76-0e03692bcdb3"
      },
      "execution_count": 3,
      "outputs": [
        {
          "output_type": "stream",
          "name": "stderr",
          "text": [
            "Using backend: pytorch\n"
          ]
        }
      ]
    },
    {
      "cell_type": "code",
      "source": [
        "# There is only one graph in Node Property Prediction datasets\n",
        "graph, labels = dataset[0]\n",
        "\n",
        "'''\n",
        "  OGBN-Proteins\n",
        "    #Nodes = 132,534\n",
        "    #Edges = 39,561,252\n",
        "    #Tasks = 112\n",
        "    #Split Type = Species\n",
        "    #Task Type = Binary classification\n",
        "    #Metric = ROC-AUC\n",
        "\n",
        "    Task:\n",
        "      The task is to predict the presence of protein functions in a multi-label binary classification setup,\n",
        "      where there are 112 kinds of labels to predict in total. \n",
        "      The performance is measured by the average of ROC-AUC scores across the 112 tasks.\n",
        "\n",
        "    #Others:\n",
        "      **undirected**\n",
        "      **weighted**\n",
        "      **typed (according to species)**\n",
        "\n",
        "  (1) Nodes represent proteins\n",
        "    (1.1) The proteins come from 8 species\n",
        "      len(set(graph.ndata['species'].reshape(-1).tolist())) == 8\n",
        "    (1.2) Each node has one feature associated with it (its species)\n",
        "      graph.ndata['species'].shape == (#nodes, 1)\n",
        "  \n",
        "  (2) Edges indicate different types of biologically meaningful associations between proteins\n",
        "    (2.1) All edges come with 8-dimensional features\n",
        "      graph.edata['feat'].shape == (2 * #edges, 8)\n",
        "\n",
        "'''\n",
        "# Get split labels\n",
        "train_label = dataset.labels[split_idx['train']]  # (86619, 112)\n",
        "valid_label = dataset.labels[split_idx['valid']]  # (21236, 112)\n",
        "test_label = dataset.labels[split_idx['test']]    # (24679, 112)"
      ],
      "metadata": {
        "id": "uoD9dO9ECiCd"
      },
      "execution_count": 4,
      "outputs": []
    },
    {
      "cell_type": "code",
      "source": [
        "import torch\n",
        "import jraph\n",
        "import jax.numpy as jnp\n",
        "\n",
        "def dgl_graph_to_jraph(graph):\n",
        "  node_features = jnp.array(graph.ndata['species'])\n",
        "  \n",
        "  # Order should not matter here because the graph is undirected\n",
        "  senders = jnp.array(graph.edges()[0])\n",
        "  receivers = jnp.array(graph.edges()[1])\n",
        "\n",
        "  # Edges -- here we should include the 8-dimensional edge features\n",
        "  # TODO: Figure out how to use **metis** to split the graph\n",
        "  edges = jnp.array(graph.edata['feat'][:100])\n",
        "\n",
        "  n_node = jnp.array([graph.num_nodes()])\n",
        "  n_edge = jnp.array([graph.num_edges()])\n",
        "\n",
        "  return jraph.GraphsTuple(\n",
        "            nodes = node_features, \n",
        "            senders = senders, \n",
        "            receivers = receivers,\n",
        "            edges = edges,   \n",
        "            n_node = n_node, \n",
        "            n_edge = n_edge,\n",
        "            globals = None  # No global features\n",
        "          )\n",
        "\n",
        "dgl_graph_to_jraph(graph)"
      ],
      "metadata": {
        "colab": {
          "base_uri": "https://localhost:8080/"
        },
        "id": "6NIrv0oSO2El",
        "outputId": "b310a7d5-c798-416b-8a1c-aa3541e3a317"
      },
      "execution_count": 13,
      "outputs": [
        {
          "output_type": "execute_result",
          "data": {
            "text/plain": [
              "GraphsTuple(nodes=DeviceArray([[3702],\n",
              "             [3702],\n",
              "             [3702],\n",
              "             ...,\n",
              "             [7955],\n",
              "             [7955],\n",
              "             [7955]], dtype=int32), edges=DeviceArray([[0.501, 0.001, 0.001, 0.001, 0.001, 0.001, 0.001, 0.001],\n",
              "             [0.501, 0.001, 0.001, 0.001, 0.001, 0.001, 0.001, 0.001],\n",
              "             [0.501, 0.001, 0.001, 0.001, 0.001, 0.001, 0.001, 0.001],\n",
              "             [0.501, 0.001, 0.001, 0.001, 0.001, 0.001, 0.001, 0.001],\n",
              "             [0.501, 0.001, 0.001, 0.001, 0.001, 0.001, 0.001, 0.001],\n",
              "             [0.501, 0.001, 0.001, 0.001, 0.001, 0.001, 0.001, 0.001],\n",
              "             [0.501, 0.001, 0.001, 0.001, 0.001, 0.001, 0.001, 0.001],\n",
              "             [0.501, 0.001, 0.001, 0.001, 0.001, 0.001, 0.001, 0.001],\n",
              "             [0.501, 0.001, 0.001, 0.001, 0.001, 0.001, 0.001, 0.001],\n",
              "             [0.501, 0.001, 0.001, 0.001, 0.001, 0.001, 0.001, 0.001],\n",
              "             [0.501, 0.001, 0.001, 0.001, 0.001, 0.001, 0.001, 0.001],\n",
              "             [0.501, 0.001, 0.001, 0.001, 0.001, 0.001, 0.001, 0.001],\n",
              "             [0.501, 0.001, 0.001, 0.001, 0.001, 0.001, 0.001, 0.001],\n",
              "             [0.501, 0.001, 0.001, 0.001, 0.001, 0.001, 0.001, 0.001],\n",
              "             [0.501, 0.001, 0.001, 0.001, 0.001, 0.001, 0.001, 0.001],\n",
              "             [0.501, 0.001, 0.001, 0.001, 0.001, 0.001, 0.001, 0.001],\n",
              "             [0.501, 0.001, 0.001, 0.001, 0.001, 0.001, 0.001, 0.001],\n",
              "             [0.501, 0.001, 0.001, 0.001, 0.001, 0.001, 0.001, 0.001],\n",
              "             [0.501, 0.001, 0.001, 0.001, 0.001, 0.001, 0.001, 0.001],\n",
              "             [0.501, 0.001, 0.001, 0.001, 0.001, 0.001, 0.001, 0.001],\n",
              "             [0.501, 0.001, 0.001, 0.001, 0.001, 0.001, 0.001, 0.001],\n",
              "             [0.501, 0.001, 0.001, 0.001, 0.001, 0.001, 0.001, 0.001],\n",
              "             [0.501, 0.001, 0.001, 0.001, 0.001, 0.001, 0.001, 0.001],\n",
              "             [0.501, 0.001, 0.001, 0.001, 0.001, 0.001, 0.001, 0.001],\n",
              "             [0.501, 0.001, 0.001, 0.001, 0.001, 0.001, 0.001, 0.001],\n",
              "             [0.501, 0.001, 0.001, 0.001, 0.001, 0.001, 0.001, 0.001],\n",
              "             [0.501, 0.001, 0.001, 0.001, 0.001, 0.001, 0.001, 0.001],\n",
              "             [0.501, 0.001, 0.001, 0.001, 0.001, 0.001, 0.001, 0.001],\n",
              "             [0.501, 0.001, 0.001, 0.001, 0.001, 0.001, 0.001, 0.001],\n",
              "             [0.501, 0.001, 0.001, 0.001, 0.001, 0.001, 0.001, 0.001],\n",
              "             [0.501, 0.001, 0.001, 0.001, 0.001, 0.001, 0.001, 0.001],\n",
              "             [0.501, 0.001, 0.001, 0.001, 0.001, 0.001, 0.001, 0.001],\n",
              "             [0.501, 0.001, 0.001, 0.001, 0.001, 0.001, 0.001, 0.001],\n",
              "             [0.501, 0.001, 0.001, 0.001, 0.001, 0.001, 0.001, 0.001],\n",
              "             [0.501, 0.001, 0.001, 0.001, 0.001, 0.001, 0.001, 0.001],\n",
              "             [0.501, 0.001, 0.001, 0.001, 0.001, 0.001, 0.001, 0.001],\n",
              "             [0.501, 0.001, 0.001, 0.001, 0.001, 0.001, 0.001, 0.001],\n",
              "             [0.501, 0.001, 0.001, 0.001, 0.001, 0.001, 0.001, 0.001],\n",
              "             [0.501, 0.001, 0.001, 0.001, 0.001, 0.001, 0.001, 0.001],\n",
              "             [0.501, 0.001, 0.001, 0.001, 0.001, 0.001, 0.001, 0.001],\n",
              "             [0.501, 0.001, 0.001, 0.001, 0.001, 0.001, 0.001, 0.001],\n",
              "             [0.501, 0.001, 0.001, 0.001, 0.001, 0.001, 0.001, 0.001],\n",
              "             [0.501, 0.001, 0.001, 0.001, 0.001, 0.001, 0.001, 0.001],\n",
              "             [0.501, 0.001, 0.001, 0.001, 0.001, 0.001, 0.001, 0.001],\n",
              "             [0.501, 0.001, 0.001, 0.001, 0.001, 0.001, 0.001, 0.001],\n",
              "             [0.501, 0.001, 0.001, 0.001, 0.001, 0.001, 0.001, 0.001],\n",
              "             [0.501, 0.001, 0.001, 0.001, 0.001, 0.001, 0.001, 0.001],\n",
              "             [0.501, 0.001, 0.001, 0.001, 0.001, 0.001, 0.001, 0.001],\n",
              "             [0.501, 0.001, 0.001, 0.001, 0.001, 0.001, 0.001, 0.001],\n",
              "             [0.501, 0.001, 0.001, 0.001, 0.001, 0.001, 0.001, 0.001],\n",
              "             [0.501, 0.001, 0.001, 0.001, 0.001, 0.001, 0.001, 0.001],\n",
              "             [0.501, 0.001, 0.001, 0.001, 0.001, 0.001, 0.001, 0.001],\n",
              "             [0.501, 0.001, 0.001, 0.001, 0.001, 0.001, 0.001, 0.001],\n",
              "             [0.501, 0.001, 0.001, 0.001, 0.001, 0.001, 0.001, 0.001],\n",
              "             [0.501, 0.001, 0.001, 0.001, 0.001, 0.001, 0.001, 0.001],\n",
              "             [0.501, 0.001, 0.001, 0.001, 0.001, 0.001, 0.001, 0.001],\n",
              "             [0.501, 0.001, 0.001, 0.001, 0.001, 0.001, 0.001, 0.001],\n",
              "             [0.501, 0.001, 0.001, 0.001, 0.001, 0.001, 0.001, 0.001],\n",
              "             [0.501, 0.001, 0.001, 0.001, 0.001, 0.001, 0.001, 0.001],\n",
              "             [0.501, 0.001, 0.001, 0.001, 0.001, 0.001, 0.001, 0.001],\n",
              "             [0.501, 0.001, 0.001, 0.001, 0.001, 0.001, 0.001, 0.001],\n",
              "             [0.501, 0.001, 0.001, 0.001, 0.001, 0.001, 0.001, 0.001],\n",
              "             [0.501, 0.001, 0.001, 0.001, 0.001, 0.001, 0.001, 0.001],\n",
              "             [0.501, 0.001, 0.001, 0.001, 0.001, 0.001, 0.001, 0.001],\n",
              "             [0.501, 0.001, 0.001, 0.001, 0.001, 0.001, 0.001, 0.001],\n",
              "             [0.501, 0.001, 0.001, 0.001, 0.001, 0.001, 0.001, 0.001],\n",
              "             [0.501, 0.001, 0.001, 0.001, 0.001, 0.001, 0.001, 0.001],\n",
              "             [0.501, 0.001, 0.001, 0.001, 0.001, 0.001, 0.001, 0.001],\n",
              "             [0.501, 0.001, 0.001, 0.001, 0.001, 0.001, 0.001, 0.001],\n",
              "             [0.501, 0.001, 0.001, 0.001, 0.001, 0.001, 0.001, 0.001],\n",
              "             [0.501, 0.001, 0.001, 0.001, 0.001, 0.001, 0.001, 0.001],\n",
              "             [0.501, 0.001, 0.001, 0.001, 0.001, 0.001, 0.001, 0.001],\n",
              "             [0.501, 0.001, 0.001, 0.001, 0.001, 0.001, 0.001, 0.001],\n",
              "             [0.501, 0.001, 0.001, 0.001, 0.001, 0.001, 0.001, 0.001],\n",
              "             [0.501, 0.001, 0.001, 0.001, 0.001, 0.001, 0.001, 0.001],\n",
              "             [0.501, 0.001, 0.001, 0.001, 0.001, 0.001, 0.001, 0.001],\n",
              "             [0.501, 0.001, 0.001, 0.001, 0.001, 0.001, 0.001, 0.001],\n",
              "             [0.501, 0.001, 0.001, 0.001, 0.001, 0.001, 0.001, 0.001],\n",
              "             [0.501, 0.001, 0.001, 0.001, 0.001, 0.001, 0.001, 0.001],\n",
              "             [0.501, 0.001, 0.001, 0.001, 0.001, 0.001, 0.001, 0.001],\n",
              "             [0.501, 0.001, 0.001, 0.001, 0.001, 0.001, 0.001, 0.001],\n",
              "             [0.501, 0.001, 0.001, 0.001, 0.001, 0.001, 0.001, 0.001],\n",
              "             [0.501, 0.001, 0.001, 0.001, 0.001, 0.001, 0.001, 0.001],\n",
              "             [0.501, 0.001, 0.001, 0.001, 0.001, 0.001, 0.001, 0.001],\n",
              "             [0.501, 0.001, 0.001, 0.001, 0.001, 0.001, 0.001, 0.001],\n",
              "             [0.501, 0.001, 0.001, 0.001, 0.001, 0.001, 0.001, 0.001],\n",
              "             [0.501, 0.001, 0.001, 0.001, 0.001, 0.001, 0.001, 0.001],\n",
              "             [0.501, 0.001, 0.001, 0.001, 0.001, 0.001, 0.001, 0.001],\n",
              "             [0.501, 0.001, 0.001, 0.001, 0.001, 0.001, 0.001, 0.001],\n",
              "             [0.501, 0.001, 0.001, 0.001, 0.001, 0.001, 0.001, 0.001],\n",
              "             [0.501, 0.001, 0.001, 0.001, 0.001, 0.001, 0.001, 0.001],\n",
              "             [0.501, 0.001, 0.001, 0.001, 0.001, 0.001, 0.001, 0.001],\n",
              "             [0.501, 0.001, 0.001, 0.001, 0.001, 0.001, 0.001, 0.001],\n",
              "             [0.501, 0.001, 0.001, 0.001, 0.001, 0.001, 0.001, 0.001],\n",
              "             [0.501, 0.001, 0.001, 0.001, 0.001, 0.001, 0.001, 0.001],\n",
              "             [0.501, 0.001, 0.001, 0.001, 0.001, 0.001, 0.001, 0.001],\n",
              "             [0.501, 0.001, 0.001, 0.001, 0.001, 0.001, 0.001, 0.001],\n",
              "             [0.501, 0.001, 0.001, 0.001, 0.001, 0.001, 0.001, 0.001],\n",
              "             [0.501, 0.001, 0.001, 0.001, 0.001, 0.001, 0.001, 0.001],\n",
              "             [0.501, 0.001, 0.001, 0.001, 0.001, 0.001, 0.001, 0.001]],            dtype=float32), receivers=DeviceArray([96401,     1, 68343, ..., 86404, 86435, 86562], dtype=int32), senders=DeviceArray([    1, 96401,     1, ..., 86562, 86562, 86435], dtype=int32), globals=None, n_node=DeviceArray([132534], dtype=int32), n_edge=DeviceArray([79122504], dtype=int32))"
            ]
          },
          "metadata": {},
          "execution_count": 13
        }
      ]
    },
    {
      "cell_type": "code",
      "source": [
        "print(graph.edata['feat'].shape)"
      ],
      "metadata": {
        "colab": {
          "base_uri": "https://localhost:8080/"
        },
        "id": "X5hgbaZiRs_G",
        "outputId": "cd6b11de-2c07-42ca-d287-d09e7240c472"
      },
      "execution_count": 7,
      "outputs": [
        {
          "output_type": "stream",
          "name": "stdout",
          "text": [
            "torch.Size([79122504, 8])\n"
          ]
        }
      ]
    },
    {
      "cell_type": "code",
      "source": [
        "import haiku as hk\n",
        "import jax\n",
        "import jax.numpy as jnp\n",
        "import jraph\n",
        "\n",
        "def network_definition(graph: jraph.GraphsTuple):\n",
        "  \"\"\"Defines a graph neural network.\n",
        "  Args:\n",
        "    graph: GraphsTuple the network processes.\n",
        "  Returns:\n",
        "  \"\"\"\n",
        "  update_node_fn = hk.Sequential(\n",
        "      hk.nets.MLP([128]),\n",
        "      hk.LayerNorm(axis = -1, create_scale = True, create_offset = True)\n",
        "      )\n",
        "  \n",
        "  update_edge_fn = hk.Sequential(\n",
        "      hk.nets.MLP([128]),\n",
        "      hk.LayerNorm(axis = -1, create_scale = True, create_offset = True)\n",
        "      )\n",
        "\n",
        "  gn = jraph.InteractionNetwork(\n",
        "      update_edge_fn=update_edge_fn,\n",
        "      update_node_fn=update_node_fn\n",
        "      )"
      ],
      "metadata": {
        "id": "dT-ybNnT2E_x"
      },
      "execution_count": 8,
      "outputs": []
    }
  ]
}