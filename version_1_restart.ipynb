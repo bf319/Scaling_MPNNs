{
  "nbformat": 4,
  "nbformat_minor": 0,
  "metadata": {
    "colab": {
      "name": "version-1-restart.ipynb",
      "provenance": [],
      "authorship_tag": "ABX9TyOhnP8Zdk50u4kjlZnAG/Zf",
      "include_colab_link": true
    },
    "kernelspec": {
      "name": "python3",
      "display_name": "Python 3"
    },
    "language_info": {
      "name": "python"
    },
    "accelerator": "TPU"
  },
  "cells": [
    {
      "cell_type": "markdown",
      "metadata": {
        "id": "view-in-github",
        "colab_type": "text"
      },
      "source": [
        "<a href=\"https://colab.research.google.com/github/bf319/Scaling_MPNNs/blob/main/version_1_restart.ipynb\" target=\"_parent\"><img src=\"https://colab.research.google.com/assets/colab-badge.svg\" alt=\"Open In Colab\"/></a>"
      ]
    },
    {
      "cell_type": "code",
      "execution_count": 1,
      "metadata": {
        "id": "S0Uuxp631d21"
      },
      "outputs": [],
      "source": [
        "%pip install -q git+https://github.com/deepmind/dm-haiku\n",
        "%pip install -q jraph\n",
        "%pip install -q git+https://github.com/deepmind/jaxline\n",
        "%pip install -q ogb\n",
        "%pip install -q dgl\n",
        "%pip install -q optax"
      ]
    },
    {
      "cell_type": "code",
      "source": [
        "# Initialize the TPU\n",
        "import jax.tools.colab_tpu\n",
        "jax.tools.colab_tpu.setup_tpu()"
      ],
      "metadata": {
        "id": "LKDGqcZC1xKh"
      },
      "execution_count": 2,
      "outputs": []
    },
    {
      "cell_type": "code",
      "source": [
        "from ogb.nodeproppred import Evaluator\n",
        "from ogb.nodeproppred import DglNodePropPredDataset\n",
        "\n",
        "dataset = DglNodePropPredDataset(name = \"ogbn-proteins\")\n",
        "split_idx = dataset.get_idx_split()"
      ],
      "metadata": {
        "id": "ZYocthafCOE7"
      },
      "execution_count": 10,
      "outputs": []
    },
    {
      "cell_type": "code",
      "source": [
        "# There is only one graph in Node Property Prediction datasets\n",
        "graph, labels = dataset[0]\n",
        "\n",
        "'''\n",
        "  OGBN-Proteins\n",
        "    #Nodes = 132,534\n",
        "    #Edges = 39,561,252\n",
        "    #Tasks = 112\n",
        "    #Split Type = Species\n",
        "    #Task Type = Binary classification\n",
        "    #Metric = ROC-AUC\n",
        "\n",
        "    Task:\n",
        "      The task is to predict the presence of protein functions in a multi-label binary classification setup,\n",
        "      where there are 112 kinds of labels to predict in total. \n",
        "      The performance is measured by the average of ROC-AUC scores across the 112 tasks.\n",
        "\n",
        "    #Others:\n",
        "      **undirected**\n",
        "      **weighted**\n",
        "      **typed (according to species)**\n",
        "\n",
        "  (1) Nodes represent proteins\n",
        "    (1.1) The proteins come from 8 species\n",
        "      len(set(graph.ndata['species'].reshape(-1).tolist())) == 8\n",
        "  \n",
        "  (2) Edges indicate different types of biologically meaningful associations between proteins\n",
        "    (2.1) All edges come with 8-dimensional features\n",
        "      graph.edata['feat'].shape == (2 * #edges, 8)\n",
        "\n",
        "'''\n",
        "# Get split labels\n",
        "train_label = dataset.labels[split_idx['train']]  # (86619, 112)\n",
        "valid_label = dataset.labels[split_idx['valid']]  # (21236, 112)\n",
        "test_label = dataset.labels[split_idx['test']]    # (24679, 112)"
      ],
      "metadata": {
        "id": "uoD9dO9ECiCd"
      },
      "execution_count": 43,
      "outputs": []
    },
    {
      "cell_type": "code",
      "source": [
        "import haiku as hk\n",
        "import jax\n",
        "import jax.numpy as jnp\n",
        "import jraph\n",
        "\n",
        "def network_definition(graph: jraph.GraphsTuple):\n",
        "  \"\"\"Defines a graph neural network.\n",
        "  Args:\n",
        "    graph: GraphsTuple the network processes.\n",
        "  Returns:\n",
        "  \"\"\"\n",
        "  update_node_fn = hk.Sequential(\n",
        "      hk.nets.MLP([128]),\n",
        "      hk.LayerNorm(axis = -1, create_scale = True, create_offset = True)\n",
        "      )\n",
        "  \n",
        "  update_edge_fn = hk.Sequential(\n",
        "      hk.nets.MLP([128]),\n",
        "      hk.LayerNorm(axis = -1, create_scale = True, create_offset = True)\n",
        "      )\n",
        "\n",
        "  gn = jraph.InteractionNetwork(\n",
        "      update_edge_fn=update_edge_fn,\n",
        "      update_node_fn=update_node_fn\n",
        "      )"
      ],
      "metadata": {
        "id": "dT-ybNnT2E_x"
      },
      "execution_count": 7,
      "outputs": []
    }
  ]
}