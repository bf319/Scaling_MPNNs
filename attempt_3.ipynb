{
  "nbformat": 4,
  "nbformat_minor": 0,
  "metadata": {
    "colab": {
      "name": "attempt-3.ipynb",
      "provenance": [],
      "machine_shape": "hm",
      "authorship_tag": "ABX9TyM/nBaWel8c/1mg0US9WJvL",
      "include_colab_link": true
    },
    "kernelspec": {
      "name": "python3",
      "display_name": "Python 3"
    },
    "language_info": {
      "name": "python"
    },
    "accelerator": "GPU"
  },
  "cells": [
    {
      "cell_type": "markdown",
      "metadata": {
        "id": "view-in-github",
        "colab_type": "text"
      },
      "source": [
        "<a href=\"https://colab.research.google.com/github/bf319/Scaling_MPNNs/blob/main/attempt_3.ipynb\" target=\"_parent\"><img src=\"https://colab.research.google.com/assets/colab-badge.svg\" alt=\"Open In Colab\"/></a>"
      ]
    },
    {
      "cell_type": "code",
      "execution_count": 1,
      "metadata": {
        "id": "n3jpe18Q0gv3"
      },
      "outputs": [],
      "source": [
        "%pip install -q git+https://github.com/deepmind/dm-haiku\n",
        "%pip install -q jraph\n",
        "%pip install -q git+https://github.com/deepmind/jaxline\n",
        "%pip install -q ogb\n",
        "%pip install -q dgl\n",
        "%pip install -q optax\n",
        "%pip install -q metis"
      ]
    },
    {
      "cell_type": "code",
      "source": [
        "from ogb.nodeproppred import Evaluator\n",
        "from ogb.nodeproppred import DglNodePropPredDataset\n",
        "\n",
        "dataset = DglNodePropPredDataset(name = \"ogbn-proteins\")\n",
        "split_idx = dataset.get_idx_split()"
      ],
      "metadata": {
        "colab": {
          "base_uri": "https://localhost:8080/"
        },
        "id": "3jIWxp1_0mIu",
        "outputId": "c8b03f0f-a095-4a4c-96d2-add1e2a9208a"
      },
      "execution_count": 2,
      "outputs": [
        {
          "output_type": "stream",
          "name": "stderr",
          "text": [
            "Using backend: pytorch\n"
          ]
        }
      ]
    },
    {
      "cell_type": "code",
      "source": [
        "# There is only one graph in Node Property Prediction datasets\n",
        "ogbn_proteins_main_graph, ogbn_proteins_main_labels = dataset[0]\n",
        "\n",
        "'''\n",
        "  OGBN-Proteins\n",
        "    #Nodes = 132,534\n",
        "    #Edges = 39,561,252\n",
        "    #Tasks = 112\n",
        "    #Split Type = Species\n",
        "    #Task Type = Binary classification\n",
        "    #Metric = ROC-AUC\n",
        "\n",
        "    Task:\n",
        "      The task is to predict the presence of protein functions in a multi-label binary classification setup,\n",
        "      where there are 112 kinds of labels to predict in total. \n",
        "      The performance is measured by the average of ROC-AUC scores across the 112 tasks.\n",
        "\n",
        "    #Others:\n",
        "      **undirected**\n",
        "      **weighted**\n",
        "      **typed (according to species)**\n",
        "\n",
        "  (1) Nodes represent proteins\n",
        "    (1.1) The proteins come from 8 species\n",
        "      len(set(graph.ndata['species'].reshape(-1).tolist())) == 8\n",
        "    (1.2) Each node has one feature associated with it (its species)\n",
        "      graph.ndata['species'].shape == (#nodes, 1)\n",
        "  \n",
        "  (2) Edges indicate different types of biologically meaningful associations between proteins\n",
        "    (2.1) All edges come with 8-dimensional features\n",
        "      graph.edata['feat'].shape == (2 * #edges, 8)\n",
        "\n",
        "'''\n",
        "# Get split labels\n",
        "train_label = dataset.labels[split_idx['train']]  # (86619, 112) -- binary values (presence of protein functions)\n",
        "valid_label = dataset.labels[split_idx['valid']]  # (21236, 112) -- binary values (presence of protein functions)\n",
        "test_label = dataset.labels[split_idx['test']]    # (24679, 112) -- binary values (presence of protein functions)"
      ],
      "metadata": {
        "id": "IHKbbygY0oTc"
      },
      "execution_count": 3,
      "outputs": []
    },
    {
      "cell_type": "code",
      "source": [
        "import dgl\n",
        "\n",
        "'''\n",
        "  Generate graph partition using metis, with balanced number of edges in each partition.\n",
        "  Note: \n",
        "    The subgraphs do not contain the node/edge data in the input graph (https://docs.dgl.ai/generated/dgl.metis_partition.html)\n",
        "'''\n",
        "num_partitions = 1000\n",
        "dgl_graph_metis_partition = dgl.metis_partition(ogbn_proteins_main_graph, num_partitions, balance_edges = True)"
      ],
      "metadata": {
        "colab": {
          "base_uri": "https://localhost:8080/"
        },
        "id": "glmmxIPA0p1Y",
        "outputId": "78c22223-10be-4a28-97e9-3662f037559e"
      },
      "execution_count": 4,
      "outputs": [
        {
          "output_type": "stream",
          "name": "stdout",
          "text": [
            "Convert a graph into a bidirected graph: 4.015 seconds\n",
            "Construct multi-constraint weights: 0.003 seconds\n",
            "Metis partitioning: 65.541 seconds\n",
            "Split the graph: 3.025 seconds\n",
            "Construct subgraphs: 0.186 seconds\n"
          ]
        }
      ]
    },
    {
      "cell_type": "code",
      "source": [
        "import numpy as np\n",
        "import torch\n",
        "import jraph\n",
        "import jax.numpy as jnp\n",
        "\n",
        "def dgl_graph_to_jraph(node_ids):\n",
        "  # First add back the node and edge features\n",
        "  dgl_graph_with_features = dgl.node_subgraph(ogbn_proteins_main_graph, node_ids)\n",
        "\n",
        "  node_features = jnp.array(dgl_graph_with_features.ndata['species'])\n",
        "  \n",
        "  # I think it should be -- DGLGraph.edges uses the default (uv) format for edges\n",
        "  # with u == source and v == destination\n",
        "  # From https://docs.dgl.ai/generated/dgl.DGLGraph.edges.html#dgl.DGLGraph.edges\n",
        "  senders = jnp.array(dgl_graph_with_features.edges()[0])\n",
        "  receivers = jnp.array(dgl_graph_with_features.edges()[1])\n",
        "\n",
        "  # Edges -- here we should include the 8-dimensional edge features\n",
        "  edges = jnp.array(dgl_graph_with_features.edata['feat'])\n",
        "\n",
        "  n_node = jnp.array([dgl_graph_with_features.num_nodes()])\n",
        "  n_edge = jnp.array([dgl_graph_with_features.num_edges()])\n",
        "\n",
        "  return jraph.GraphsTuple(\n",
        "            nodes = node_features.astype(np.float32),\n",
        "            senders = senders.astype(np.int32), \n",
        "            receivers = receivers.astype(np.int32),\n",
        "            edges = edges.astype(np.float32),  \n",
        "            n_node = n_node, \n",
        "            n_edge = n_edge,\n",
        "            globals = None  # No global features\n",
        "          )\n",
        "  \n",
        "def get_labels_for_subgraph(node_ids):\n",
        "  return ogbn_proteins_main_labels.index_select(0, node_ids)"
      ],
      "metadata": {
        "id": "C9kl_E-b0vRw"
      },
      "execution_count": 5,
      "outputs": []
    },
    {
      "cell_type": "code",
      "source": [
        "import haiku as hk\n",
        "import jax\n",
        "import jax.numpy as jnp\n",
        "import jraph\n",
        "import optax"
      ],
      "metadata": {
        "id": "y_xmEvt50yZQ"
      },
      "execution_count": 6,
      "outputs": []
    },
    {
      "cell_type": "code",
      "source": [
        "%pip install -q flax"
      ],
      "metadata": {
        "id": "gSXj1i_A1W-C"
      },
      "execution_count": 7,
      "outputs": []
    },
    {
      "cell_type": "code",
      "source": [
        "from typing import Sequence\n",
        "\n",
        "# From https://github.com/YuxuanXie/mcl/blob/5f7ee92e2a6bc89736263873a4ba9c14d1a676ff/glassy_dynamics/train_using_jax.py\n",
        "\n",
        "mlp_sizes = (64, 128)\n",
        "num_message_passing_steps = 3\n",
        "\n",
        "@jraph.concatenated_args\n",
        "def node_update_fn(feats: jnp.ndarray) -> jnp.ndarray:\n",
        "  \"\"\"Node update function for graph net.\"\"\"\n",
        "  net = hk.Sequential([hk.nets.MLP(output_sizes = mlp_sizes), jax.nn.relu, hk.LayerNorm(axis = -1, create_scale = False, create_offset = False)])\n",
        "  return net(feats)\n",
        "\n",
        "@jraph.concatenated_args\n",
        "def edge_update_fn(feats: jnp.ndarray) -> jnp.ndarray:\n",
        "  \"\"\"Edge update function for graph net.\"\"\"\n",
        "  net = hk.Sequential([hk.nets.MLP(output_sizes = mlp_sizes), jax.nn.relu, hk.LayerNorm(axis = -1, create_scale = False, create_offset = False)])\n",
        "  return net(feats)\n",
        "\n",
        "def node_decoder_fn(feats: jnp.ndarray) -> jnp.ndarray:\n",
        "  ## TODO -- Question\n",
        "  ## Should I use softmax here then round the decoded values? (true labels are either 0 or 1) \n",
        "  net = hk.Sequential([hk.nets.MLP(output_sizes = [112]), jax.nn.relu])\n",
        "  return net(feats)\n",
        "\n",
        "def network_definition(graph):\n",
        "  \"\"\"Defines a graph neural network.\n",
        "  Args:\n",
        "    graph: Graphstuple the network processes.\n",
        "  Returns:\n",
        "    Decoded nodes.\n",
        "  \"\"\"\n",
        "  model_fn = functools.partial(hk.nets.MLP)\n",
        "\n",
        "  ## TODO -- Question\n",
        "  ## Should I use jraph.GraphMapFeatures here instead?\n",
        "  node_encoder = model_fn(output_sizes=mlp_sizes)\n",
        "  edge_encoder = model_fn(output_sizes=mlp_sizes)\n",
        "  node_decoder = node_decoder_fn\n",
        "\n",
        "  node_encoding = node_encoder(graph.nodes)\n",
        "  edge_encoding = edge_encoder(graph.edges)\n",
        "  graph = graph._replace(nodes=node_encoding, edges=edge_encoding)\n",
        "\n",
        "  gn = jraph.InteractionNetwork(\n",
        "      update_node_fn=node_update_fn,\n",
        "      update_edge_fn=edge_update_fn,\n",
        "      include_sent_messages_in_node_update=True\n",
        "      )\n",
        "\n",
        "  for _ in range(num_message_passing_steps):\n",
        "    graph = graph._replace(\n",
        "        nodes=jnp.concatenate([graph.nodes, node_encoding], axis=-1),\n",
        "        edges=jnp.concatenate([graph.edges, edge_encoding], axis=-1)\n",
        "        )\n",
        "    graph = gn(graph)\n",
        "\n",
        "  return node_decoder(graph.nodes)\n"
      ],
      "metadata": {
        "id": "u_QvbygF04bU"
      },
      "execution_count": 8,
      "outputs": []
    },
    {
      "cell_type": "code",
      "source": [
        "import functools\n",
        "import haiku as hk\n",
        "\n",
        "from random import randint\n",
        "\n",
        "# Try to follow this tutorial https://github.com/YuxuanXie/mcl/blob/5f7ee92e2a6bc89736263873a4ba9c14d1a676ff/glassy_dynamics/train_using_jax.py\n",
        "def compute_loss(params, graph, label, net):\n",
        "  decoded_nodes = net.apply(params, graph) # Shape == label.shape\n",
        "  \n",
        "  ## TODO -- Question\n",
        "  ## Should I round the predictions here?\n",
        "  # predictions = jax.lax.round(decoded_nodes)\n",
        "  predictions = decoded_nodes\n",
        "\n",
        "  ##########################################################################################################################################################################\n",
        "  # From https://colab.research.google.com/github/deepmind/educational/blob/master/colabs/summer_schools/intro_to_graph_nets_tutorial_with_jraph.ipynb#scrollTo=_Ld4b3D6Lwel\n",
        "  ##########################################################################################################################################################################\n",
        "  def compute_bce_with_logits_loss(x: jnp.ndarray, y: jnp.ndarray) -> jnp.ndarray:\n",
        "    \"\"\"Computes binary cross-entropy with logits loss.\n",
        "\n",
        "    Combines sigmoid and BCE, and uses log-sum-exp trick for numerical stability.\n",
        "    See https://stackoverflow.com/a/66909858 if you want to learn more.\n",
        "\n",
        "    Args:\n",
        "      x: Predictions (logits).\n",
        "      y: Labels.\n",
        "\n",
        "    Returns:\n",
        "      Binary cross-entropy loss with mean aggregation.\n",
        "\n",
        "    \"\"\"\n",
        "    max_val = jnp.clip(x, 0, None)\n",
        "    loss = x - x * y + max_val + jnp.log(jnp.exp(-max_val) + jnp.exp((-x - max_val)))\n",
        "    return loss.mean()\n",
        "  ##########################################################################################################################################################################\n",
        "\n",
        "  loss = compute_bce_with_logits_loss(predictions, label)\n",
        "  return loss\n",
        "\n",
        "def train(num_training_steps):\n",
        "  # Transform the function (MPNN) into a pure function (with no side effects) so that it can be used with jax\n",
        "  net = hk.without_apply_rng(hk.transform(network_definition))\n",
        "\n",
        "  training_graph = dgl_graph_to_jraph(dgl_graph_metis_partition[0].ndata['_ID'])\n",
        "  labels_training = get_labels_for_subgraph(dgl_graph_metis_partition[0].ndata['_ID'])\n",
        "  labels_training = jnp.array(labels_training)\n",
        "\n",
        "  params = net.init(jax.random.PRNGKey(42), training_graph)\n",
        "\n",
        "  opt_init, opt_update = optax.adam(learning_rate = 1e-5)\n",
        "  opt_state = opt_init(params)\n",
        "\n",
        "  @jax.jit\n",
        "  def update(params, opt_state, graph, targets):\n",
        "    loss, grads = jax.value_and_grad(compute_loss)(params, graph, targets, net)\n",
        "    updates, opt_state = opt_update(grads, opt_state)\n",
        "    return optax.apply_updates(params, updates), opt_state, loss\n",
        "\n",
        "  # Train\n",
        "  for idx in range(num_training_steps):\n",
        "    ## TODO - Question\n",
        "    ## I should be training in each iteration over different graphs right?\n",
        "    graph_idx = dgl_graph_to_jraph(dgl_graph_metis_partition[idx].ndata['_ID'])\n",
        "    labels_idx = get_labels_for_subgraph(dgl_graph_metis_partition[idx].ndata['_ID'])\n",
        "    labels_idx = jnp.array(labels_idx)\n",
        "\n",
        "    params, opt_state, loss = update(params, opt_state, graph_idx, labels_idx)\n",
        "    print('Loss training:', loss)\n",
        "\n",
        "  return params\n",
        "\n",
        "def evaluate(params, num_graphs_eval):\n",
        "  net = hk.without_apply_rng(hk.transform(network_definition))\n",
        "  # Evaluate\n",
        "  accumulated_loss = 0.0\n",
        "  accumulated_acc = 0\n",
        "\n",
        "  for idx in range(num_graphs_eval):\n",
        "    graph_idx = dgl_graph_to_jraph(dgl_graph_metis_partition[idx].ndata['_ID'])\n",
        "    labels_idx = get_labels_for_subgraph(dgl_graph_metis_partition[idx].ndata['_ID'])\n",
        "    labels_idx = jnp.array(labels_idx)\n",
        "\n",
        "    (loss, acc) = evaluate_graph(params, graph_idx, labels_idx, net)\n",
        "\n",
        "    accumulated_loss += loss\n",
        "    accumulated_acc += acc\n",
        "\n",
        "  print(f'Average loss: {accumulated_loss / num_graphs_eval} | Averace accuracy: {accumulated_acc / num_graphs_eval}')\n",
        "\n",
        "def evaluate_graph(params, graph, label, net):\n",
        "  compute_loss_fn = jax.jit(functools.partial(compute_loss, net=net))\n",
        "\n",
        "  decoded_nodes = net.apply(params, graph) # Shape == label.shape\n",
        "  \n",
        "  ## TODO -- Question\n",
        "  ## Should I round the predictions here?\n",
        "  # predictions = jax.lax.round(decoded_nodes)\n",
        "  predictions = decoded_nodes\n",
        "\n",
        "  loss = compute_loss_fn(params, graph, label)\n",
        "  acc = jnp.sum(predictions == label) / (label.shape[0] * label.shape[1])\n",
        "\n",
        "  print(f'Eval loss: {loss} | Accuracy: {acc}')\n",
        "  return (loss, acc)\n",
        "\n",
        "final_params = train(num_training_steps = 10)\n",
        "evaluate(final_params, 5)"
      ],
      "metadata": {
        "colab": {
          "base_uri": "https://localhost:8080/"
        },
        "id": "f2uzCUYg4gdw",
        "outputId": "5907cfad-c3b5-4a2d-9b0f-9deeb3565b84"
      },
      "execution_count": 13,
      "outputs": [
        {
          "output_type": "stream",
          "name": "stdout",
          "text": [
            "Loss training: 0.8956759\n",
            "Loss training: 0.8868045\n",
            "Loss training: 0.8791524\n",
            "Loss training: 0.8979594\n",
            "Loss training: 0.87674236\n",
            "Loss training: 0.8935414\n",
            "Loss training: 0.8789717\n",
            "Loss training: 0.86563635\n",
            "Loss training: 0.8631058\n",
            "Loss training: 0.8694459\n",
            "Eval loss: 0.8820407390594482 | Accuracy: 0.43622449040412903\n",
            "Eval loss: 0.8678776025772095 | Accuracy: 0.42436978220939636\n",
            "Eval loss: 0.8507804870605469 | Accuracy: 0.38265305757522583\n",
            "Eval loss: 0.8898522853851318 | Accuracy: 0.45330357551574707\n",
            "Eval loss: 0.8740144968032837 | Accuracy: 0.4264315068721771\n",
            "Average loss: 0.8729131817817688 | Averace accuracy: 0.4245964586734772\n"
          ]
        }
      ]
    },
    {
      "cell_type": "code",
      "source": [
        "## TODO: Take into account that nodes might be reshufled\n",
        "def predict_labels(params, net):\n",
        "  y_pred = None\n",
        "\n",
        "  for i in range(num_partitions):\n",
        "    graph = dgl_graph_to_jraph(dgl_graph_metis_partition[i].ndata['_ID'])\n",
        "\n",
        "    if i == 0:\n",
        "      y_pred = np.array(jax.nn.softmax(net.apply(params, graph)))\n",
        "    else:\n",
        "      if i % 5 == 0:\n",
        "        print(f'Reached iteration {i}')\n",
        "      y_pred = np.append(\n",
        "          y_pred,\n",
        "          np.array(jax.nn.softmax(net.apply(params, graph))),\n",
        "          axis = 0\n",
        "      )\n",
        "\n",
        "  return y_pred"
      ],
      "metadata": {
        "id": "uQOOKRGyz9pH"
      },
      "execution_count": null,
      "outputs": []
    },
    {
      "cell_type": "code",
      "source": [
        "(_, true_labels) = dataset[0]\n",
        "print(true_labels.shape)\n",
        "print(torch.tensor(predicted_labels).shape)"
      ],
      "metadata": {
        "id": "pXT6kbGjdMP2"
      },
      "execution_count": null,
      "outputs": []
    },
    {
      "cell_type": "code",
      "source": [
        "from ogb.nodeproppred import Evaluator\n",
        "\n",
        "evaluator = Evaluator(name = 'ogbn-proteins')\n",
        "final_results = evaluator.eval({\n",
        "    'y_true': true_labels,\n",
        "    'y_pred': torch.tensor(predicted_labels)\n",
        "})\n",
        "print(final_results)\n",
        "# print(evaluator.expected_input_format) \n",
        "# print(evaluator.expected_output_format) "
      ],
      "metadata": {
        "id": "T5CMRumSzua-"
      },
      "execution_count": null,
      "outputs": []
    }
  ]
}