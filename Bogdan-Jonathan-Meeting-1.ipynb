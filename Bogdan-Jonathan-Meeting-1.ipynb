{
  "nbformat": 4,
  "nbformat_minor": 0,
  "metadata": {
    "colab": {
      "name": "Copy of attempt_4_before_meeting.ipynb",
      "provenance": [],
      "machine_shape": "hm",
      "collapsed_sections": [],
      "include_colab_link": true
    },
    "kernelspec": {
      "name": "python3",
      "display_name": "Python 3"
    },
    "language_info": {
      "name": "python"
    },
    "accelerator": "TPU"
  },
  "cells": [
    {
      "cell_type": "markdown",
      "metadata": {
        "id": "view-in-github",
        "colab_type": "text"
      },
      "source": [
        "<a href=\"https://colab.research.google.com/github/bf319/Scaling_MPNNs/blob/main/Bogdan-Jonathan-Meeting-1.ipynb\" target=\"_parent\"><img src=\"https://colab.research.google.com/assets/colab-badge.svg\" alt=\"Open In Colab\"/></a>"
      ]
    },
    {
      "cell_type": "code",
      "execution_count": null,
      "metadata": {
        "id": "n3jpe18Q0gv3",
        "colab": {
          "base_uri": "https://localhost:8080/"
        },
        "outputId": "451035f4-b678-4c73-9328-96ed3231d595"
      },
      "outputs": [
        {
          "output_type": "stream",
          "name": "stdout",
          "text": [
            "  Building wheel for dm-haiku (setup.py) ... \u001b[?25l\u001b[?25hdone\n",
            "\u001b[K     |████████████████████████████████| 75 kB 3.2 MB/s \n",
            "\u001b[K     |████████████████████████████████| 70 kB 3.9 MB/s \n",
            "\u001b[K     |████████████████████████████████| 77 kB 6.7 MB/s \n",
            "\u001b[?25h  Building wheel for jaxline (setup.py) ... \u001b[?25l\u001b[?25hdone\n",
            "  Building wheel for ml-collections (setup.py) ... \u001b[?25l\u001b[?25hdone\n",
            "\u001b[K     |████████████████████████████████| 78 kB 3.7 MB/s \n",
            "\u001b[?25h  Building wheel for littleutils (setup.py) ... \u001b[?25l\u001b[?25hdone\n",
            "\u001b[K     |████████████████████████████████| 4.4 MB 5.4 MB/s \n",
            "\u001b[K     |████████████████████████████████| 136 kB 5.3 MB/s \n",
            "\u001b[?25h  Building wheel for metis (setup.py) ... \u001b[?25l\u001b[?25hdone\n"
          ]
        }
      ],
      "source": [
        "%pip install -q git+https://github.com/deepmind/dm-haiku\n",
        "%pip install -q jraph\n",
        "%pip install -q git+https://github.com/deepmind/jaxline\n",
        "%pip install -q ogb\n",
        "%pip install -q dgl\n",
        "%pip install -q optax\n",
        "%pip install -q metis"
      ]
    },
    {
      "cell_type": "code",
      "source": [
        "from ogb.nodeproppred import Evaluator\n",
        "from ogb.nodeproppred import DglNodePropPredDataset\n",
        "\n",
        "dataset = DglNodePropPredDataset(name = \"ogbn-proteins\")\n",
        "split_idx = dataset.get_idx_split()\n",
        "evaluator = Evaluator(name = 'ogbn-proteins')"
      ],
      "metadata": {
        "colab": {
          "base_uri": "https://localhost:8080/"
        },
        "id": "3jIWxp1_0mIu",
        "outputId": "c6b1d452-cd58-426a-c58d-5758b40786e4"
      },
      "execution_count": null,
      "outputs": [
        {
          "output_type": "stream",
          "name": "stderr",
          "text": [
            "DGL backend not selected or invalid.  Assuming PyTorch for now.\n",
            "Using backend: pytorch\n"
          ]
        },
        {
          "output_type": "stream",
          "name": "stdout",
          "text": [
            "Setting the default backend to \"pytorch\". You can change it in the ~/.dgl/config.json file or export the DGLBACKEND environment variable.  Valid options are: pytorch, mxnet, tensorflow (all lowercase)\n",
            "Downloading http://snap.stanford.edu/ogb/data/nodeproppred/proteins.zip\n"
          ]
        },
        {
          "output_type": "stream",
          "name": "stderr",
          "text": [
            "Downloaded 0.21 GB: 100%|██████████| 216/216 [00:07<00:00, 27.65it/s]\n"
          ]
        },
        {
          "output_type": "stream",
          "name": "stdout",
          "text": [
            "Extracting dataset/proteins.zip\n",
            "Loading necessary files...\n",
            "This might take a while.\n",
            "Processing graphs...\n"
          ]
        },
        {
          "output_type": "stream",
          "name": "stderr",
          "text": [
            "100%|██████████| 1/1 [00:02<00:00,  2.29s/it]\n"
          ]
        },
        {
          "output_type": "stream",
          "name": "stdout",
          "text": [
            "Converting graphs into DGL objects...\n"
          ]
        },
        {
          "output_type": "stream",
          "name": "stderr",
          "text": [
            "100%|██████████| 1/1 [00:00<00:00,  2.31it/s]\n"
          ]
        },
        {
          "output_type": "stream",
          "name": "stdout",
          "text": [
            "Saving...\n"
          ]
        }
      ]
    },
    {
      "cell_type": "code",
      "source": [
        "# There is only one graph in Node Property Prediction datasets\n",
        "ogbn_proteins_main_graph, ogbn_proteins_main_labels = dataset[0]\n",
        "\n",
        "'''\n",
        "  OGBN-Proteins\n",
        "    #Nodes = 132,534\n",
        "    #Edges = 39,561,252\n",
        "    #Tasks = 112\n",
        "    #Split Type = Species\n",
        "    #Task Type = Binary classification\n",
        "    #Metric = ROC-AUC\n",
        "\n",
        "    Task:\n",
        "      The task is to predict the presence of protein functions in a multi-label binary classification setup,\n",
        "      where there are 112 kinds of labels to predict in total. \n",
        "      The performance is measured by the average of ROC-AUC scores across the 112 tasks.\n",
        "\n",
        "    #Others:\n",
        "      **undirected**\n",
        "      **weighted**\n",
        "      **typed (according to species)**\n",
        "\n",
        "  (1) Nodes represent proteins\n",
        "    (1.1) The proteins come from 8 species\n",
        "      len(set(graph.ndata['species'].reshape(-1).tolist())) == 8\n",
        "    (1.2) Each node has one feature associated with it (its species)\n",
        "      graph.ndata['species'].shape == (#nodes, 1)\n",
        "  \n",
        "  (2) Edges indicate different types of biologically meaningful associations between proteins\n",
        "    (2.1) All edges come with 8-dimensional features\n",
        "      graph.edata['feat'].shape == (2 * #edges, 8)\n",
        "\n",
        "'''\n",
        "# Get split labels\n",
        "train_label = dataset.labels[split_idx['train']]  # (86619, 112) -- binary values (presence of protein functions)\n",
        "valid_label = dataset.labels[split_idx['valid']]  # (21236, 112) -- binary values (presence of protein functions)\n",
        "test_label = dataset.labels[split_idx['test']]    # (24679, 112) -- binary values (presence of protein functions)"
      ],
      "metadata": {
        "id": "IHKbbygY0oTc"
      },
      "execution_count": null,
      "outputs": []
    },
    {
      "cell_type": "code",
      "source": [
        "import dgl\n",
        "\n",
        "'''\n",
        "  Generate graph partition using metis, with balanced number of edges in each partition.\n",
        "  Note: \n",
        "    The subgraphs do not contain the node/edge data in the input graph (https://docs.dgl.ai/generated/dgl.metis_partition.html)\n",
        "'''\n",
        "num_partitions = 100\n",
        "dgl_graph_metis_partition = dgl.metis_partition(ogbn_proteins_main_graph, num_partitions, balance_edges = True)"
      ],
      "metadata": {
        "colab": {
          "base_uri": "https://localhost:8080/"
        },
        "id": "glmmxIPA0p1Y",
        "outputId": "c7cddd21-278e-4b60-ea99-3842e3ea9a28"
      },
      "execution_count": null,
      "outputs": [
        {
          "output_type": "stream",
          "name": "stdout",
          "text": [
            "Convert a graph into a bidirected graph: 1.633 seconds\n",
            "Construct multi-constraint weights: 0.436 seconds\n",
            "Metis partitioning: 26.629 seconds\n",
            "Split the graph: 0.444 seconds\n",
            "Construct subgraphs: 0.041 seconds\n"
          ]
        }
      ]
    },
    {
      "cell_type": "code",
      "source": [
        "import numpy as np\n",
        "import torch\n",
        "import jraph\n",
        "import jax.numpy as jnp\n",
        "\n",
        "def dgl_graph_to_jraph(node_ids):\n",
        "  # First add back the node and edge features\n",
        "  dgl_graph_with_features = dgl.node_subgraph(ogbn_proteins_main_graph, node_ids)\n",
        "\n",
        "  node_features = jnp.array(dgl_graph_with_features.ndata['species'])\n",
        "  \n",
        "  # I think it should be -- DGLGraph.edges uses the default (uv) format for edges\n",
        "  # with u == source and v == destination\n",
        "  # From https://docs.dgl.ai/generated/dgl.DGLGraph.edges.html#dgl.DGLGraph.edges\n",
        "  senders = jnp.array(dgl_graph_with_features.edges()[0])\n",
        "  receivers = jnp.array(dgl_graph_with_features.edges()[1])\n",
        "\n",
        "  # Edges -- here we should include the 8-dimensional edge features\n",
        "  edges = jnp.array(dgl_graph_with_features.edata['feat'])\n",
        "\n",
        "  n_node = jnp.array([dgl_graph_with_features.num_nodes()])\n",
        "  n_edge = jnp.array([dgl_graph_with_features.num_edges()])\n",
        "\n",
        "  return jraph.GraphsTuple(\n",
        "            nodes = node_features.astype(np.float32),\n",
        "            senders = senders.astype(np.int32), \n",
        "            receivers = receivers.astype(np.int32),\n",
        "            edges = edges.astype(np.float32),  \n",
        "            n_node = n_node, \n",
        "            n_edge = n_edge,\n",
        "            globals = None  # No global features\n",
        "          )\n",
        "  \n",
        "def get_labels_for_subgraph(node_ids):\n",
        "  return ogbn_proteins_main_labels.index_select(0, node_ids)"
      ],
      "metadata": {
        "id": "C9kl_E-b0vRw"
      },
      "execution_count": null,
      "outputs": []
    },
    {
      "cell_type": "code",
      "source": [
        "import haiku as hk\n",
        "import jax\n",
        "import optax\n",
        "\n",
        "from typing import Sequence\n",
        "\n",
        "# See https://github.com/YuxuanXie/mcl/blob/5f7ee92e2a6bc89736263873a4ba9c14d1a676ff/glassy_dynamics/train_using_jax.py for alternative to using GraphMapFeatures\n",
        "# From https://github.com/YuxuanXie/mcl/blob/5f7ee92e2a6bc89736263873a4ba9c14d1a676ff/glassy_dynamics/train_using_jax.py\n",
        "\n",
        "mlp_sizes = (64, 128)\n",
        "num_message_passing_steps = 3\n",
        "\n",
        "@jraph.concatenated_args\n",
        "def node_update_fn(feats: jnp.ndarray) -> jnp.ndarray:\n",
        "  \"\"\"Node update function for graph net.\"\"\"\n",
        "  net = hk.Sequential([hk.nets.MLP(output_sizes = mlp_sizes), jax.nn.relu, hk.LayerNorm(axis = -1, create_scale = False, create_offset = False)])\n",
        "  return net(feats)\n",
        "\n",
        "@jraph.concatenated_args\n",
        "def edge_update_fn(feats: jnp.ndarray) -> jnp.ndarray:\n",
        "  \"\"\"Edge update function for graph net.\"\"\"\n",
        "  net = hk.Sequential([hk.nets.MLP(output_sizes = mlp_sizes), jax.nn.relu, hk.LayerNorm(axis = -1, create_scale = False, create_offset = False)])\n",
        "  return net(feats)\n",
        "\n",
        "def node_decoder_fn(feats: jnp.ndarray) -> jnp.ndarray:\n",
        "  ## TODO -- Question: Should I use softmax here then round the decoded values? (true labels are either 0 or 1) \n",
        "  net = hk.Sequential([hk.nets.MLP(output_sizes = [112]), jax.nn.relu])\n",
        "  return net(feats)\n",
        "\n",
        "def network_definition(graph):\n",
        "  \"\"\"Defines a graph neural network.\n",
        "  Args:\n",
        "    graph: Graphstuple the network processes.\n",
        "  Returns:\n",
        "    Decoded nodes.\n",
        "  \"\"\"\n",
        "\n",
        "  embedder = jraph.GraphMapFeatures(\n",
        "      embed_node_fn=hk.Linear(mlp_sizes[0]),\n",
        "      embed_edge_fn=hk.Linear(mlp_sizes[1]),\n",
        "      )\n",
        "  graph = embedder(graph)\n",
        "\n",
        "  gn = jraph.InteractionNetwork(\n",
        "      update_node_fn=node_update_fn,\n",
        "      update_edge_fn=edge_update_fn,\n",
        "      include_sent_messages_in_node_update=True\n",
        "      )\n",
        "\n",
        "  for _ in range(num_message_passing_steps):\n",
        "    graph = gn(graph)\n",
        "\n",
        "  decoder = jraph.GraphMapFeatures(embed_node_fn = node_decoder_fn)\n",
        "  \n",
        "  processed_graph = decoder(graph)\n",
        "  return processed_graph.nodes"
      ],
      "metadata": {
        "id": "u_QvbygF04bU"
      },
      "execution_count": null,
      "outputs": []
    },
    {
      "cell_type": "code",
      "source": [
        "import functools\n",
        "import haiku as hk\n",
        "\n",
        "from random import randint\n",
        "\n",
        "# Try to follow this tutorial https://github.com/YuxuanXie/mcl/blob/5f7ee92e2a6bc89736263873a4ba9c14d1a676ff/glassy_dynamics/train_using_jax.py\n",
        "def compute_loss(params, graph, label, net):\n",
        "  decoded_nodes = net.apply(params, graph) # Shape == label.shape\n",
        "  \n",
        "  ## TODO -- Question: Should I round the predictions here? (predictions = jax.lax.round(decoded_nodes))\n",
        "  predictions = decoded_nodes\n",
        "  # (JG): optax has a binary cross entropy implementation.\n",
        "  def compute_bce_with_logits_loss(x: jnp.ndarray, y: jnp.ndarray) -> jnp.ndarray:\n",
        "    \"\"\"\n",
        "    Computes binary cross-entropy with logits loss.\n",
        "    From https://colab.research.google.com/github/deepmind/educational/blob/master/colabs/summer_schools/intro_to_graph_nets_tutorial_with_jraph.ipynb#scrollTo=_Ld4b3D6Lwel\n",
        "\n",
        "    Combines sigmoid and BCE, and uses log-sum-exp trick for numerical stability.\n",
        "    See https://stackoverflow.com/a/66909858 if you want to learn more.\n",
        "\n",
        "    Args:\n",
        "      x: Predictions (logits).\n",
        "      y: Labels.\n",
        "\n",
        "    Returns:\n",
        "      Binary cross-entropy loss with mean aggregation.\n",
        "\n",
        "    \"\"\"\n",
        "    max_val = jnp.clip(x, 0, None)\n",
        "    loss = x - x * y + max_val + jnp.log(jnp.exp(-max_val) + jnp.exp((-x - max_val)))\n",
        "    return loss.mean()\n",
        "\n",
        "  loss = compute_bce_with_logits_loss(predictions, label)\n",
        "  return loss\n",
        "\n",
        "def train(num_training_steps):\n",
        "  # Transform the function (MPNN) into a pure function (with no side effects) so that it can be used with jax\n",
        "  net = hk.without_apply_rng(hk.transform(network_definition))\n",
        "\n",
        "  training_graph = dgl_graph_to_jraph(dgl_graph_metis_partition[0].ndata['_ID'])\n",
        "  labels_training = get_labels_for_subgraph(dgl_graph_metis_partition[0].ndata['_ID'])\n",
        "  labels_training = jnp.array(labels_training)\n",
        "\n",
        "  params = net.init(jax.random.PRNGKey(42), training_graph)\n",
        "\n",
        "  opt_init, opt_update = optax.adam(learning_rate = 1e-5)  # This learning rate could be a bit low, try 1e-1 for full graph descent?  \n",
        "  opt_state = opt_init(params)\n",
        "\n",
        "  # pmap?\n",
        "  @jax.jit\n",
        "  def update(params, opt_state, graph, targets):\n",
        "    loss, grads = jax.value_and_grad(compute_loss)(params, graph, targets, net)\n",
        "    updates, opt_state = opt_update(grads, opt_state)\n",
        "    return optax.apply_updates(params, updates), opt_state, loss\n",
        "\n",
        "  ## TODO - Question: How to train only using the train_split?\n",
        "\n",
        "\n",
        "  # Train split, [0, 1, 10]\n",
        "  # Train mask, jnp.zeros((num_nodes, 1)).at[train_split].set(1)\n",
        "  # bce(pred, target) * train_mask\n",
        "\n",
        "  # Preprocess data\n",
        "  processed_data = []\n",
        "  for idx in len(data):\n",
        "    graph_idx = dgl_graph_to_jraph(dgl_graph_metis_partition[idx].ndata['_ID'])\n",
        "    labels_idx = get_labels_for_subgraph(dgl_graph_metis_partition[idx].ndata['_ID'])\n",
        "    labels_idx = jnp.array(labels_idx)\n",
        "\n",
        "\n",
        "  # num training steps = 1000\n",
        "  for idx in range(num_training_steps):\n",
        "    graph = random.choice(processed_data)\n",
        "    labels = random.choice(labels)\n",
        "    params, opt_state, loss = update(params, opt_state, graph_idx, labels_idx)\n",
        "    print('Loss training:', loss)\n",
        "    # save parameters and opt state\n",
        "  return params\n",
        "\n",
        "def evaluate(params, num_graphs_eval):\n",
        "  net = hk.without_apply_rng(hk.transform(network_definition))\n",
        "  \n",
        "  # Evaluate\n",
        "  accumulated_loss = 0.0\n",
        "  accumulated_roc = 0\n",
        "\n",
        "  for idx in range(num_graphs_eval):\n",
        "    graph_idx = dgl_graph_to_jraph(dgl_graph_metis_partition[idx].ndata['_ID'])\n",
        "    labels_idx = get_labels_for_subgraph(dgl_graph_metis_partition[idx].ndata['_ID'])\n",
        "    labels_idx = jnp.array(labels_idx)\n",
        "\n",
        "    (loss, roc) = evaluate_graph(params, graph_idx, labels_idx, net)\n",
        "\n",
        "    accumulated_loss += loss\n",
        "    accumulated_roc += roc\n",
        "\n",
        "  print(f'Average loss: {accumulated_loss / num_graphs_eval} | Average ROC: {accumulated_roc / num_graphs_eval}')\n",
        "\n",
        "def evaluate_graph(params, graph, label, net):\n",
        "  compute_loss_fn = jax.jit(functools.partial(compute_loss, net=net))\n",
        "\n",
        "  decoded_nodes = net.apply(params, graph) # Shape == label.shape\n",
        "  \n",
        "  ## TODO -- Question: Should I round the predictions here? (predictions = jax.lax.round(decoded_nodes))\n",
        "  predictions = decoded_nodes\n",
        "\n",
        "  loss = compute_loss_fn(params, graph, label)\n",
        "  roc = evaluator.eval({\"y_true\": np.array(label), \"y_pred\": np.array(predictions)})['rocauc']\n",
        "\n",
        "  print(f'Eval loss: {loss} | ROC: {roc}')\n",
        "  return (loss, roc)\n",
        "\n",
        "final_params = train(num_training_steps = 10)\n",
        "evaluate(final_params, 5)"
      ],
      "metadata": {
        "colab": {
          "base_uri": "https://localhost:8080/"
        },
        "id": "f2uzCUYg4gdw",
        "outputId": "68d6e907-4c26-4779-f139-141b1f84ad06"
      },
      "execution_count": null,
      "outputs": [
        {
          "output_type": "stream",
          "name": "stderr",
          "text": [
            "WARNING:absl:No GPU/TPU found, falling back to CPU. (Set TF_CPP_MIN_LOG_LEVEL=0 and rerun for more info.)\n"
          ]
        },
        {
          "output_type": "stream",
          "name": "stdout",
          "text": [
            "Loss training: 0.86478597\n",
            "Loss training: 0.86032945\n",
            "Loss training: 0.8502318\n",
            "Loss training: 0.829198\n",
            "Loss training: 0.85182774\n",
            "Loss training: 0.85189044\n",
            "Loss training: 0.87464565\n",
            "Loss training: 0.86070037\n",
            "Loss training: 0.86909634\n",
            "Loss training: 0.8350097\n",
            "Eval loss: 0.8430590033531189 | ROC: 0.49673739182563603\n",
            "Eval loss: 0.8407504558563232 | ROC: 0.5049564379095163\n",
            "Eval loss: 0.8343844413757324 | ROC: 0.4970060154006341\n",
            "Eval loss: 0.8171571493148804 | ROC: 0.49731982502274225\n",
            "Eval loss: 0.8398522734642029 | ROC: 0.5001442550130821\n",
            "Average loss: 0.8350406885147095 | Average ROC: 0.4992327850343221\n"
          ]
        }
      ]
    },
    {
      "cell_type": "code",
      "source": [
        "# First get your graph and convert it\n",
        "# sharded_graphnet.graphs_tuple_to_broadcasted_sharded_graphs_tuple(\n",
        "# Every tensor in the sharded graphs tuple has a first dimension of size [devices]\n",
        "# Construct your sharded graph net, being clear to have num_shardes=num_devices\n",
        "# sharded_gn = sharded_graphnet.ShardedEdgesGraphNetwork(\n",
        "        # update_fn, update_fn, update_fn, num_shards=devices)\n",
        "        \n",
        "# @jax.pmap\n",
        "# def psuedo_update(sharded_graph):\n",
        "#   sharded_graph = sharded_gn(sharded_graph)\n",
        "#   loss = bce(sharded_graph.nodes, targets) * target_mas\n",
        "#   return loss\n",
        "\n",
        "\n",
        "# Make sure to add jax.lax.pmean(grads) for your gradients!\n",
        "\n",
        "# sharded_gn(sharded_graph)\n"
      ],
      "metadata": {
        "id": "bpO0ouB2o9qc"
      },
      "execution_count": null,
      "outputs": []
    },
    {
      "cell_type": "code",
      "source": [
        "## TODO - Question: For data parallelism, my understanding is that I should apply vmap.\n",
        "## Where should I apply it? In the computations of the losses? How would I then go about combining \n",
        "## the gradients before updating the parameters.\n",
        "\n",
        "## TODO - Question: What to do about the error below with setting up pmap for Google Colab?\n",
        "## I could use Kaggle which I understand gives access to TPUs v3 - v5\n",
        "## but there is a long waiting time for running the code \n",
        "## and I would only have access for 20 hours of TPU time."
      ],
      "metadata": {
        "id": "zcpkFDYKHgyE"
      },
      "execution_count": null,
      "outputs": []
    },
    {
      "cell_type": "code",
      "source": [
        "# # Set up the TPU\n",
        "# import jax\n",
        "# import jax.tools.colab_tpu\n",
        "# jax.tools.colab_tpu.setup_tpu()\n",
        "\n",
        "# device_count = jax.device_count() # 8 devices\n",
        "\n",
        "# jax.devices()"
      ],
      "metadata": {
        "id": "KcPdNsWM7-2C"
      },
      "execution_count": null,
      "outputs": []
    },
    {
      "cell_type": "code",
      "source": [
        "# from jax.experimental import maps\n",
        "# from jax.experimental import PartitionSpec\n",
        "# from jax.experimental.pjit import pjit\n",
        "\n",
        "# import numpy as np\n",
        "\n",
        "# mesh_shape = (4, 2)\n",
        "# devices = np.asarray(jax.devices()).reshape(*mesh_shape)\n",
        "\n",
        "# mesh = maps.Mesh(devices, ('x', 'y'))\n",
        "# mesh"
      ],
      "metadata": {
        "id": "4_VGdh3g8DPr"
      },
      "execution_count": null,
      "outputs": []
    },
    {
      "cell_type": "code",
      "source": [
        "\n",
        "## TODO - Question\n",
        "## Problem with pjit on Google Colabs\n",
        "## https://github.com/google/jax/issues/8300\n",
        "\n",
        "# from jax.experimental import maps\n",
        "# from jax.experimental.pjit import PartitionSpec, pjit\n",
        "\n",
        "# def test_pjit():\n",
        "#   input_data = np.arange(8 * 2).reshape(8, 2)\n",
        "\n",
        "#   f = pjit(\n",
        "#     lambda x: x,\n",
        "#     in_axis_resources=None,\n",
        "#     out_axis_resources=PartitionSpec('x', 'y')\n",
        "#     )\n",
        " \n",
        "#   # Sends data to accelerators based on partition_spec\n",
        "#   with maps.mesh(mesh.devices, mesh.axis_names):\n",
        "#     data = f(input_data)\n",
        "\n",
        "#     print(data)\n",
        "#     print(data.device_buffers)\n",
        "\n",
        "# test_pjit()"
      ],
      "metadata": {
        "id": "SbW_joYk0wlV"
      },
      "execution_count": null,
      "outputs": []
    },
    {
      "cell_type": "code",
      "source": [
        "# ## TODO: Take into account that nodes might have been reshufled\n",
        "# def predict_labels(params, net):\n",
        "#   y_pred = None\n",
        "\n",
        "#   for i in range(num_partitions):\n",
        "#     graph = dgl_graph_to_jraph(dgl_graph_metis_partition[i].ndata['_ID'])\n",
        "\n",
        "#     if i == 0:\n",
        "#       y_pred = np.array(jax.nn.softmax(net.apply(params, graph)))\n",
        "#     else:\n",
        "#       if i % 5 == 0:\n",
        "#         print(f'Reached iteration {i}')\n",
        "#       y_pred = np.append(\n",
        "#           y_pred,\n",
        "#           np.array(jax.nn.softmax(net.apply(params, graph))),\n",
        "#           axis = 0\n",
        "#       )\n",
        "\n",
        "#   return y_pred"
      ],
      "metadata": {
        "id": "uQOOKRGyz9pH"
      },
      "execution_count": null,
      "outputs": []
    },
    {
      "cell_type": "code",
      "source": [
        "# (_, true_labels) = dataset[0]\n",
        "# print(true_labels.shape)\n",
        "# print(torch.tensor(predicted_labels).shape)"
      ],
      "metadata": {
        "id": "pXT6kbGjdMP2"
      },
      "execution_count": null,
      "outputs": []
    },
    {
      "cell_type": "code",
      "source": [
        "# from ogb.nodeproppred import Evaluator\n",
        "\n",
        "# evaluator = Evaluator(name = 'ogbn-proteins')\n",
        "# final_results = evaluator.eval({\n",
        "#     'y_true': true_labels,\n",
        "#     'y_pred': torch.tensor(predicted_labels)\n",
        "# })\n",
        "# print(final_results)\n",
        "# # print(evaluator.expected_input_format) \n",
        "# # print(evaluator.expected_output_format) "
      ],
      "metadata": {
        "id": "T5CMRumSzua-"
      },
      "execution_count": null,
      "outputs": []
    }
  ]
}